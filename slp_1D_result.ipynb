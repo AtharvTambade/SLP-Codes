{
 "cells": [
  {
   "cell_type": "code",
   "execution_count": 1,
   "metadata": {},
   "outputs": [
    {
     "data": {
      "text/plain": [
       "[<matplotlib.lines.Line2D at 0x1d27f7c8130>]"
      ]
     },
     "execution_count": 1,
     "metadata": {},
     "output_type": "execute_result"
    },
    {
     "data": {
      "image/png": "[encoded data removed]",
      "text/plain": [
       "<Figure size 640x480 with 1 Axes>"
      ]
     },
     "metadata": {},
     "output_type": "display_data"
    }
   ],
   "source": [
    "from math import *\n",
    "import numpy as np\n",
    "import matplotlib.pyplot as plt\n",
    "from scipy.stats import norm\n",
    "\n",
    "def iterate(dt, D,x):\n",
    "  return x + sqrt(2*D*dt)*np.random.normal(0, 1) \n",
    "\n",
    "t = np.linspace(0,1,101)\n",
    "x = np.zeros((101,500,51))\n",
    "for k in range (0,51):\n",
    "  for j in range (0, 500):\n",
    "    for i in range(0, 100):\n",
    "      x[i+1][j][k] = iterate(0.01, pow(10,(-3+0.08*k)),x[i][j][k])\n",
    "T = np.zeros((51,500))\n",
    "for k in range (0,51):\n",
    "  for j in range (0, 500):\n",
    "    for i in range(0, 100):\n",
    "      if (x[i][j][k]-(-1+i*0.01) < 0.1) or (-x[i][j][k]+(1-i*0.01) < 0.1) :\n",
    "        T[k][j]=i*0.01\n",
    "        break\n",
    "Mean_T = np.zeros((51))\n",
    "for i in range (0,51): \n",
    "  sum = 0\n",
    "  for j in range (0,500):\n",
    "    sum = sum + T[i][j]\n",
    "  Mean_T[i] = sum/500   \n",
    "\n",
    "D = np.zeros((51))\n",
    "for i in range (0,51):\n",
    "  D[i] = pow(10,(-3+0.08*i))\n",
    "plt.xscale(\"log\")\n",
    "plt.scatter(D, Mean_T, marker='s')\n",
    "plt.plot(D, Mean_T)"
   ]
  },
  {
   "cell_type": "code",
   "execution_count": 7,
   "metadata": {},
   "outputs": [
    {
     "data": {
      "text/plain": [
       "(array([ 0.73529412,  0.        ,  0.        ,  0.73529412,  0.        ,\n",
       "         0.        ,  0.        ,  0.73529412,  0.        ,  0.        ,\n",
       "         0.        ,  3.67647059,  0.        ,  0.        , 10.29411765,\n",
       "         0.        ,  0.        ,  0.        ,  9.55882353,  0.        ,\n",
       "         0.        ,  0.        , 11.02941176,  0.        ,  0.        ,\n",
       "         8.82352941,  0.        ,  0.        ,  0.        ,  8.82352941,\n",
       "         0.        ,  0.        ,  0.        ,  9.55882353,  0.        ,\n",
       "         0.        , 11.76470588,  0.        ,  0.        ,  0.        ,\n",
       "        13.23529412,  0.        ,  0.        ,  0.        , 13.23529412,\n",
       "         0.        ,  0.        ,  5.88235294,  0.        ,  0.        ,\n",
       "         0.        ,  9.55882353,  0.        ,  0.        ,  0.        ,\n",
       "        11.76470588,  0.        ,  0.        , 13.97058824,  0.        ,\n",
       "         0.        ,  0.        ,  9.55882353,  0.        ,  0.        ,\n",
       "         0.        , 11.02941176,  0.        ,  0.        ,  8.08823529,\n",
       "         0.        ,  0.        ,  0.        , 13.23529412,  0.        ,\n",
       "         0.        ,  0.        ,  5.14705882,  0.        ,  0.        ,\n",
       "         8.08823529,  0.        ,  0.        ,  0.        ,  8.08823529,\n",
       "         0.        ,  0.        ,  0.        ,  4.41176471,  0.        ,\n",
       "         0.        , 11.76470588,  0.        ,  0.        ,  0.        ,\n",
       "         8.82352941,  0.        ,  0.        ,  0.        ,  5.88235294,\n",
       "         0.        ,  0.        ,  5.14705882,  0.        ,  0.        ,\n",
       "         0.        ,  7.35294118,  0.        ,  0.        ,  0.        ,\n",
       "         5.88235294,  0.        ,  0.        ,  7.35294118,  0.        ,\n",
       "         0.        ,  0.        ,  3.67647059,  0.        ,  0.        ,\n",
       "         0.        ,  7.35294118,  0.        ,  0.        ,  0.        ,\n",
       "         5.14705882,  0.        ,  0.        , 10.29411765,  0.        ,\n",
       "         0.        ,  0.        ,  8.08823529,  0.        ,  0.        ,\n",
       "         0.        ,  9.55882353,  0.        ,  0.        ,  1.47058824,\n",
       "         0.        ,  0.        ,  0.        ,  5.14705882,  0.        ,\n",
       "         0.        ,  0.        ,  2.20588235,  0.        ,  0.        ,\n",
       "         3.67647059,  0.        ,  0.        ,  0.        ,  2.94117647,\n",
       "         0.        ,  0.        ,  0.        ,  3.67647059,  0.        ,\n",
       "         0.        ,  5.14705882,  0.        ,  0.        ,  0.        ,\n",
       "         3.67647059,  0.        ,  0.        ,  0.        ,  3.67647059,\n",
       "         0.        ,  0.        ,  2.94117647,  0.        ,  0.        ,\n",
       "         0.        ,  3.67647059,  0.        ,  0.        ,  0.        ,\n",
       "         0.73529412,  0.        ,  0.        ,  3.67647059,  0.        ,\n",
       "         0.        ,  0.        ,  0.73529412,  0.        ,  0.        ,\n",
       "         0.        ,  1.47058824,  0.        ,  0.        ,  3.67647059,\n",
       "         0.        ,  0.        ,  0.        ,  1.47058824,  0.        ,\n",
       "         0.        ,  0.        ,  2.20588235,  0.        ,  0.        ,\n",
       "         1.47058824,  0.        ,  0.        ,  0.        ,  0.73529412,\n",
       "         0.        ,  0.        ,  0.        ,  0.73529412,  0.        ,\n",
       "         0.        ,  0.73529412,  0.        ,  0.        ,  0.        ,\n",
       "         0.        ,  0.        ,  0.        ,  0.        ,  0.73529412,\n",
       "         0.        ,  0.        ,  0.73529412,  0.        ,  0.        ,\n",
       "         0.        ,  0.73529412,  0.        ,  0.        ,  0.        ,\n",
       "         0.        ,  0.        ,  0.        ,  0.        ,  0.        ,\n",
       "         0.        ,  0.        ,  0.73529412,  0.        ,  0.        ,\n",
       "         0.        ,  0.        ,  0.        ,  0.        ,  1.47058824]),\n",
       " array([0.03   , 0.03272, 0.03544, 0.03816, 0.04088, 0.0436 , 0.04632,\n",
       "        0.04904, 0.05176, 0.05448, 0.0572 , 0.05992, 0.06264, 0.06536,\n",
       "        0.06808, 0.0708 , 0.07352, 0.07624, 0.07896, 0.08168, 0.0844 ,\n",
       "        0.08712, 0.08984, 0.09256, 0.09528, 0.098  , 0.10072, 0.10344,\n",
       "        0.10616, 0.10888, 0.1116 , 0.11432, 0.11704, 0.11976, 0.12248,\n",
       "        0.1252 , 0.12792, 0.13064, 0.13336, 0.13608, 0.1388 , 0.14152,\n",
       "        0.14424, 0.14696, 0.14968, 0.1524 , 0.15512, 0.15784, 0.16056,\n",
       "        0.16328, 0.166  , 0.16872, 0.17144, 0.17416, 0.17688, 0.1796 ,\n",
       "        0.18232, 0.18504, 0.18776, 0.19048, 0.1932 , 0.19592, 0.19864,\n",
       "        0.20136, 0.20408, 0.2068 , 0.20952, 0.21224, 0.21496, 0.21768,\n",
       "        0.2204 , 0.22312, 0.22584, 0.22856, 0.23128, 0.234  , 0.23672,\n",
       "        0.23944, 0.24216, 0.24488, 0.2476 , 0.25032, 0.25304, 0.25576,\n",
       "        0.25848, 0.2612 , 0.26392, 0.26664, 0.26936, 0.27208, 0.2748 ,\n",
       "        0.27752, 0.28024, 0.28296, 0.28568, 0.2884 , 0.29112, 0.29384,\n",
       "        0.29656, 0.29928, 0.302  , 0.30472, 0.30744, 0.31016, 0.31288,\n",
       "        0.3156 , 0.31832, 0.32104, 0.32376, 0.32648, 0.3292 , 0.33192,\n",
       "        0.33464, 0.33736, 0.34008, 0.3428 , 0.34552, 0.34824, 0.35096,\n",
       "        0.35368, 0.3564 , 0.35912, 0.36184, 0.36456, 0.36728, 0.37   ,\n",
       "        0.37272, 0.37544, 0.37816, 0.38088, 0.3836 , 0.38632, 0.38904,\n",
       "        0.39176, 0.39448, 0.3972 , 0.39992, 0.40264, 0.40536, 0.40808,\n",
       "        0.4108 , 0.41352, 0.41624, 0.41896, 0.42168, 0.4244 , 0.42712,\n",
       "        0.42984, 0.43256, 0.43528, 0.438  , 0.44072, 0.44344, 0.44616,\n",
       "        0.44888, 0.4516 , 0.45432, 0.45704, 0.45976, 0.46248, 0.4652 ,\n",
       "        0.46792, 0.47064, 0.47336, 0.47608, 0.4788 , 0.48152, 0.48424,\n",
       "        0.48696, 0.48968, 0.4924 , 0.49512, 0.49784, 0.50056, 0.50328,\n",
       "        0.506  , 0.50872, 0.51144, 0.51416, 0.51688, 0.5196 , 0.52232,\n",
       "        0.52504, 0.52776, 0.53048, 0.5332 , 0.53592, 0.53864, 0.54136,\n",
       "        0.54408, 0.5468 , 0.54952, 0.55224, 0.55496, 0.55768, 0.5604 ,\n",
       "        0.56312, 0.56584, 0.56856, 0.57128, 0.574  , 0.57672, 0.57944,\n",
       "        0.58216, 0.58488, 0.5876 , 0.59032, 0.59304, 0.59576, 0.59848,\n",
       "        0.6012 , 0.60392, 0.60664, 0.60936, 0.61208, 0.6148 , 0.61752,\n",
       "        0.62024, 0.62296, 0.62568, 0.6284 , 0.63112, 0.63384, 0.63656,\n",
       "        0.63928, 0.642  , 0.64472, 0.64744, 0.65016, 0.65288, 0.6556 ,\n",
       "        0.65832, 0.66104, 0.66376, 0.66648, 0.6692 , 0.67192, 0.67464,\n",
       "        0.67736, 0.68008, 0.6828 , 0.68552, 0.68824, 0.69096, 0.69368,\n",
       "        0.6964 , 0.69912, 0.70184, 0.70456, 0.70728, 0.71   ]),\n",
       " <BarContainer object of 250 artists>)"
      ]
     },
     "execution_count": 7,
     "metadata": {},
     "output_type": "execute_result"
    },
    {
     "data": {
      "image/png": "[encoded data removed]",
      "text/plain": [
       "<Figure size 640x480 with 1 Axes>"
      ]
     },
     "metadata": {},
     "output_type": "display_data"
    }
   ],
   "source": [
    "plt.hist(T[38, : ], bins =250, density=True)"
   ]
  },
  {
   "cell_type": "code",
   "execution_count": 3,
   "metadata": {},
   "outputs": [
    {
     "data": {
      "text/plain": [
       "(array([ 6.,  0.,  0.,  0.,  0.,  0.,  0.,  0.,  0.,  0.,  4.,  0.,  0.,\n",
       "         0.,  0.,  0.,  0.,  0.,  0.,  0.,  2.,  0.,  0.,  0.,  0.,  0.,\n",
       "         0.,  0.,  0.,  0.,  2.,  0.,  0.,  0.,  0.,  0.,  0.,  0.,  0.,\n",
       "         0.,  4.,  0.,  0.,  0.,  0.,  0.,  0.,  0.,  0.,  0.,  8.,  0.,\n",
       "         0.,  0.,  0.,  0.,  0.,  0.,  0.,  0.,  6.,  0.,  0.,  0.,  0.,\n",
       "         0.,  0.,  0.,  0.,  0., 10.,  0.,  0.,  0.,  0.,  0.,  0.,  0.,\n",
       "         0.,  0., 24.,  0.,  0.,  0.,  0.,  0.,  0.,  0.,  0.,  0., 18.,\n",
       "         0.,  0.,  0.,  0.,  0.,  0.,  0.,  0.,  0., 18.,  0.,  0.,  0.,\n",
       "         0.,  0.,  0.,  0.,  0.,  0., 44.,  0.,  0.,  0.,  0.,  0.,  0.,\n",
       "         0.,  0.,  0., 28.,  0.,  0.,  0.,  0.,  0.,  0.,  0.,  0.,  0.,\n",
       "        46.,  0.,  0.,  0.,  0.,  0.,  0.,  0.,  0.,  0., 66.,  0.,  0.,\n",
       "         0.,  0.,  0.,  0.,  0.,  0.,  0., 60.,  0.,  0.,  0.,  0.,  0.,\n",
       "         0.,  0.,  0.,  0., 44.,  0.,  0.,  0.,  0.,  0.,  0.,  0.,  0.,\n",
       "         0., 70.,  0.,  0.,  0.,  0.,  0.,  0.,  0.,  0.,  0., 60.,  0.,\n",
       "         0.,  0.,  0.,  0.,  0.,  0.,  0., 66.,  0.,  0.,  0.,  0.,  0.,\n",
       "         0.,  0.,  0.,  0., 58.,  0.,  0.,  0.,  0.,  0.,  0.,  0.,  0.,\n",
       "         0.,  0., 58.,  0.,  0.,  0.,  0.,  0.,  0.,  0.,  0.,  0., 80.,\n",
       "         0.,  0.,  0.,  0.,  0.,  0.,  0.,  0.,  0., 90.,  0.,  0.,  0.,\n",
       "         0.,  0.,  0.,  0.,  0.,  0., 60.,  0.,  0.,  0.,  0.,  0.,  0.,\n",
       "         0.,  0., 68.]),\n",
       " array([0.65 , 0.651, 0.652, 0.653, 0.654, 0.655, 0.656, 0.657, 0.658,\n",
       "        0.659, 0.66 , 0.661, 0.662, 0.663, 0.664, 0.665, 0.666, 0.667,\n",
       "        0.668, 0.669, 0.67 , 0.671, 0.672, 0.673, 0.674, 0.675, 0.676,\n",
       "        0.677, 0.678, 0.679, 0.68 , 0.681, 0.682, 0.683, 0.684, 0.685,\n",
       "        0.686, 0.687, 0.688, 0.689, 0.69 , 0.691, 0.692, 0.693, 0.694,\n",
       "        0.695, 0.696, 0.697, 0.698, 0.699, 0.7  , 0.701, 0.702, 0.703,\n",
       "        0.704, 0.705, 0.706, 0.707, 0.708, 0.709, 0.71 , 0.711, 0.712,\n",
       "        0.713, 0.714, 0.715, 0.716, 0.717, 0.718, 0.719, 0.72 , 0.721,\n",
       "        0.722, 0.723, 0.724, 0.725, 0.726, 0.727, 0.728, 0.729, 0.73 ,\n",
       "        0.731, 0.732, 0.733, 0.734, 0.735, 0.736, 0.737, 0.738, 0.739,\n",
       "        0.74 , 0.741, 0.742, 0.743, 0.744, 0.745, 0.746, 0.747, 0.748,\n",
       "        0.749, 0.75 , 0.751, 0.752, 0.753, 0.754, 0.755, 0.756, 0.757,\n",
       "        0.758, 0.759, 0.76 , 0.761, 0.762, 0.763, 0.764, 0.765, 0.766,\n",
       "        0.767, 0.768, 0.769, 0.77 , 0.771, 0.772, 0.773, 0.774, 0.775,\n",
       "        0.776, 0.777, 0.778, 0.779, 0.78 , 0.781, 0.782, 0.783, 0.784,\n",
       "        0.785, 0.786, 0.787, 0.788, 0.789, 0.79 , 0.791, 0.792, 0.793,\n",
       "        0.794, 0.795, 0.796, 0.797, 0.798, 0.799, 0.8  , 0.801, 0.802,\n",
       "        0.803, 0.804, 0.805, 0.806, 0.807, 0.808, 0.809, 0.81 , 0.811,\n",
       "        0.812, 0.813, 0.814, 0.815, 0.816, 0.817, 0.818, 0.819, 0.82 ,\n",
       "        0.821, 0.822, 0.823, 0.824, 0.825, 0.826, 0.827, 0.828, 0.829,\n",
       "        0.83 , 0.831, 0.832, 0.833, 0.834, 0.835, 0.836, 0.837, 0.838,\n",
       "        0.839, 0.84 , 0.841, 0.842, 0.843, 0.844, 0.845, 0.846, 0.847,\n",
       "        0.848, 0.849, 0.85 , 0.851, 0.852, 0.853, 0.854, 0.855, 0.856,\n",
       "        0.857, 0.858, 0.859, 0.86 , 0.861, 0.862, 0.863, 0.864, 0.865,\n",
       "        0.866, 0.867, 0.868, 0.869, 0.87 , 0.871, 0.872, 0.873, 0.874,\n",
       "        0.875, 0.876, 0.877, 0.878, 0.879, 0.88 , 0.881, 0.882, 0.883,\n",
       "        0.884, 0.885, 0.886, 0.887, 0.888, 0.889, 0.89 , 0.891, 0.892,\n",
       "        0.893, 0.894, 0.895, 0.896, 0.897, 0.898, 0.899, 0.9  ]),\n",
       " <BarContainer object of 250 artists>)"
      ]
     },
     "execution_count": 3,
     "metadata": {},
     "output_type": "execute_result"
    },
    {
     "data": {
      "image/png": "[encoded data removed]",
      "text/plain": [
       "<Figure size 640x480 with 1 Axes>"
      ]
     },
     "metadata": {},
     "output_type": "display_data"
    }
   ],
   "source": [
    "plt.hist(T[10, : ], bins =250, density=True)"
   ]
  }
 ],
 "metadata": {
  "kernelspec": {
   "display_name": "Python 3",
   "language": "python",
   "name": "python3"
  },
  "language_info": {
   "codemirror_mode": {
    "name": "ipython",
    "version": 3
   },
   "file_extension": ".py",
   "mimetype": "text/x-python",
   "name": "python",
   "nbconvert_exporter": "python",
   "pygments_lexer": "ipython3",
   "version": "3.10.10"
  },
  "orig_nbformat": 4
 },
 "nbformat": 4,
 "nbformat_minor": 2
}
